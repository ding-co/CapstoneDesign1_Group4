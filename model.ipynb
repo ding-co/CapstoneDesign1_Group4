{
 "cells": [
  {
   "cell_type": "code",
   "execution_count": null,
   "metadata": {},
   "outputs": [],
   "source": [
    "# Load library\n",
    "\n",
    "import pandas as pd\n",
    "import numpy as np\n",
    "from sklearn.preprocessing import MinMaxScaler\n",
    "from sklearn.model_selection import train_test_split\n",
    "from sklearn.linear_model import SGDClassifier\n",
    "from sklearn.metrics import classification_report, confusion_matrix, recall_score"
   ]
  },
  {
   "cell_type": "code",
   "execution_count": null,
   "metadata": {},
   "outputs": [],
   "source": [
    "# Load ROSE processing data\n",
    "\n",
    "doc = pd.read_csv('rose_data.csv', encoding='cp949')"
   ]
  },
  {
   "cell_type": "code",
   "execution_count": null,
   "metadata": {},
   "outputs": [],
   "source": [
    "# Data check\n",
    "\n",
    "doc"
   ]
  },
  {
   "cell_type": "code",
   "execution_count": null,
   "metadata": {},
   "outputs": [],
   "source": [
    "# New dataframe copy exclude unnecessary column\n",
    "\n",
    "data = doc[['풍속', '기압', '습도', '기온', '수온', '최대파고.m.', '유의파고.m.', '평균파고.m.', '파주기.sec.', 'check']].copy()"
   ]
  },
  {
   "cell_type": "code",
   "execution_count": null,
   "metadata": {},
   "outputs": [],
   "source": [
    "# Variable set\n",
    "\n",
    "x = np.array(data[['풍속', '기압', '습도', '기온', '수온', '최대파고.m.', '유의파고.m.', '평균파고.m.', '파주기.sec.']])\n",
    "y = np.array(data[['check']])"
   ]
  },
  {
   "cell_type": "code",
   "execution_count": null,
   "metadata": {},
   "outputs": [],
   "source": [
    "x"
   ]
  },
  {
   "cell_type": "code",
   "execution_count": null,
   "metadata": {},
   "outputs": [],
   "source": [
    "# Scaling - MinMaxScaler\n",
    "\n",
    "scaler = MinMaxScaler()\n",
    "scaler.fit(x)\n",
    "scaling_x = scaler.transform(x)"
   ]
  },
  {
   "cell_type": "code",
   "execution_count": null,
   "metadata": {},
   "outputs": [],
   "source": [
    "scaling_x"
   ]
  },
  {
   "cell_type": "code",
   "execution_count": null,
   "metadata": {},
   "outputs": [],
   "source": [
    "# Train, test data set test_szie: 0.20\n",
    "# test_size : 테스트 데이터셋의 비율(float)이나 갯수(int) (default = 0.25)\n",
    "\n",
    "xtrain, xtest, ytrain, ytest = train_test_split(scaling_x, y, test_size=0.20, random_state=88)"
   ]
  },
  {
   "cell_type": "code",
   "execution_count": null,
   "metadata": {},
   "outputs": [],
   "source": [
    "print(xtrain.shape, xtest.shape)\n",
    "print(ytrain.shape, ytest.shape)"
   ]
  },
  {
   "cell_type": "code",
   "execution_count": null,
   "metadata": {},
   "outputs": [],
   "source": [
    "# Use SGDClassifier\n",
    "# Solve warning msg -> .ravel()\n",
    "# '풍속', '기압', '습도', '기온', '수온', '최대파고.m.', '유의파고.m.', '평균파고.m.', '파주기.sec.'\n",
    "\n",
    "elastic = SGDClassifier(loss=\"log\", max_iter=10000, penalty=\"elasticnet\", tol=0.01, random_state=36)\n",
    "elastic_model = elastic.fit(xtrain, ytrain.ravel())"
   ]
  },
  {
   "cell_type": "code",
   "execution_count": null,
   "metadata": {},
   "outputs": [],
   "source": [
    "# Check information\n",
    "\n",
    "print(elastic_model.alpha)\n",
    "print(elastic_model.coef_)\n",
    "print(elastic_model.intercept_)"
   ]
  },
  {
   "cell_type": "code",
   "execution_count": null,
   "metadata": {},
   "outputs": [],
   "source": [
    "# Check information\n",
    "# weight, 상관계수 라고도 불리며 각 속성의 영향도\n",
    "\n",
    "print(elastic_model.coef_)"
   ]
  },
  {
   "cell_type": "code",
   "execution_count": null,
   "metadata": {
    "scrolled": true
   },
   "outputs": [],
   "source": [
    "# 오즈비\n",
    "\n",
    "print(np.exp(elastic_model.coef_))"
   ]
  },
  {
   "cell_type": "code",
   "execution_count": null,
   "metadata": {},
   "outputs": [],
   "source": [
    "# Check Result\n",
    "\n",
    "ypred = elastic_model.predict(xtest)"
   ]
  },
  {
   "cell_type": "code",
   "execution_count": null,
   "metadata": {
    "scrolled": true
   },
   "outputs": [],
   "source": [
    "# Check result\n",
    "\n",
    "cr = classification_report(ytest, ypred)\n",
    "print(cr)"
   ]
  },
  {
   "cell_type": "code",
   "execution_count": null,
   "metadata": {},
   "outputs": [],
   "source": [
    "## 실제 기상 악화에 따른 사고 데이터 모의 테스트 (8/10)"
   ]
  },
  {
   "cell_type": "code",
   "execution_count": null,
   "metadata": {},
   "outputs": [],
   "source": [
    "print(elastic_model.predict_proba(scaler.transform([[17.3, 1005.9, 86, 18, 23.4, 8.4, 5.2, 3.7, 9.1]])))\n",
    "print(elastic_model.predict_proba(scaler.transform([[12.5, 990.8, 88, 23.7, 22.9, 7.1, 4.4, 3.1, 8]])))\n",
    "print(elastic_model.predict_proba(scaler.transform([[23.2, 980, 97, 24.6, 23.6, 6.3, 3.5, 2.5, 6.4]])))\n",
    "print(elastic_model.predict_proba(scaler.transform([[14.6, 1013.9, 81, 19, 23.4, 6.6, 3.4, 2.4, 8]])))\n",
    "print(elastic_model.predict_proba(scaler.transform([[13.9, 1004.2, 91, 25.1, 23.5, 4.5, 2.6, 1.9, 5.8]])))\n",
    "print(elastic_model.predict_proba(scaler.transform([[13.3, 1001.5, 90, 21.6, 20.4, 3, 1.7, 1.2, 5.3]])))\n",
    "print(elastic_model.predict_proba(scaler.transform([[9.5, 1018.7, 52, 5.6, 13.6, 2.5, 1.6, 1.1, 7.1]])))\n",
    "print(elastic_model.predict_proba(scaler.transform([[7.9, 1018.2, 61, 15, 14.9, 2, 1.2, 0.8, 4.3]])))\n",
    "print(elastic_model.predict_proba(scaler.transform([[5.5, 1009.5, 86, 25, 26.1, 1.2, 0.6, 0.4, 8]])))\n",
    "print(elastic_model.predict_proba(scaler.transform([[6.4, 1008.2, 93, 14.5, 15.2, 0.9, 0.6, 0.4, 2.3]])))"
   ]
  },
  {
   "cell_type": "code",
   "execution_count": null,
   "metadata": {},
   "outputs": [],
   "source": [
    "## 실제 기상 양호에 따른 사고 데이터 모의 테스트 (5/10)"
   ]
  },
  {
   "cell_type": "code",
   "execution_count": null,
   "metadata": {},
   "outputs": [],
   "source": [
    "print(elastic_model.predict_proba(scaler.transform([[9.3, 1037.3, 58, 2.6, 13.6, 3.4, 1.6, 1.2, 6.4]])))\n",
    "print(elastic_model.predict_proba(scaler.transform([[3.5, 1036.2, 63, 4.6, 6.2, 1.6, 0.8, 0.6, 4.3]])))\n",
    "print(elastic_model.predict_proba(scaler.transform([[6.3, 1035.2, 57, 6.4, 13.9, 2.9, 1.8, 1.3, 8]])))\n",
    "print(elastic_model.predict_proba(scaler.transform([[5.1, 1026.9, 58, 2.5, 14.2, 3.4, 2, 1.4, 7.1]])))\n",
    "print(elastic_model.predict_proba(scaler.transform([[9.3, 1024.1, 37, 7.3, 14.7, 1.9, 1.1, 0.8, 6.4]])))\n",
    "print(elastic_model.predict_proba(scaler.transform([[1, 1011.4, 78, 26.8, 28.3, 0.5, 0.2, 0.1, 2.7]])))\n",
    "print(elastic_model.predict_proba(scaler.transform([[4.5, 1010.4, 84, 25.2, 26.7, 0.4, 0.3, 0.2, 3.4]])))\n",
    "print(elastic_model.predict_proba(scaler.transform([[3.1, 1007.4, 82, 24.3, 23.2, 0.9, 0.6, 0.3, 4.6]])))\n",
    "print(elastic_model.predict_proba(scaler.transform([[5.5, 1005.7, 84, 18.5, 16.9, 0.7, 0.5, 0.3, 7.1]])))\n",
    "print(elastic_model.predict_proba(scaler.transform([[23.2, 980, 97, 24.6, 23.6, 6.3, 3.5, 2.5, 6.4]])))"
   ]
  }
 ],
 "metadata": {
  "kernelspec": {
   "display_name": "Python 3",
   "language": "python",
   "name": "python3"
  },
  "language_info": {
   "codemirror_mode": {
    "name": "ipython",
    "version": 3
   },
   "file_extension": ".py",
   "mimetype": "text/x-python",
   "name": "python",
   "nbconvert_exporter": "python",
   "pygments_lexer": "ipython3",
   "version": "3.8.5"
  }
 },
 "nbformat": 4,
 "nbformat_minor": 4
}
